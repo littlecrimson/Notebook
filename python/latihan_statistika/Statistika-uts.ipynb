{
 "cells": [
  {
   "cell_type": "code",
   "execution_count": 1,
   "metadata": {},
   "outputs": [],
   "source": [
    "import math\n",
    "from tabulate import tabulate"
   ]
  },
  {
   "cell_type": "code",
   "execution_count": 2,
   "metadata": {
    "scrolled": false
   },
   "outputs": [
    {
     "name": "stdout",
     "output_type": "stream",
     "text": [
      "Jumlah data :  60\n",
      "Data :  [10, 12, 12, 12, 12, 13, 13, 13, 13, 13, 14, 14, 14, 14, 15, 15, 15, 15, 16, 16, 16, 16, 17, 17, 17, 17, 17, 17, 17, 18, 18, 19, 20, 20, 20, 21, 21, 21, 22, 24, 24, 24, 24, 24, 25, 25, 25, 25, 26, 26, 26, 27, 28, 28, 28, 28, 29, 30, 32, 32]\n"
     ]
    }
   ],
   "source": [
    "data = [20,14,20,16,28,25,12,26,13,17,\n",
    "       16,12,21,15,30,24,14,13,17,28,\n",
    "       25,16,17,10,28,13,24,21,15,18,\n",
    "       12,17,24,16,32,24,15,13,29,17,\n",
    "       25,14,22,15,26,25,32,17,13,27,\n",
    "       21,17,20,18,28,24,12,19,14,26]\n",
    "\n",
    "data.sort()\n",
    "print(\"Jumlah data : \",len(data))\n",
    "print(\"Data : \",data)"
   ]
  },
  {
   "cell_type": "markdown",
   "metadata": {},
   "source": [
    "# Menentukan banyak kelas"
   ]
  },
  {
   "cell_type": "code",
   "execution_count": 3,
   "metadata": {},
   "outputs": [
    {
     "name": "stdout",
     "output_type": "stream",
     "text": [
      "K =  6.921243663777534\n",
      "K =  7\n"
     ]
    }
   ],
   "source": [
    "n = len(data)\n",
    "k = 1 + (3.33 * math.log10(n))\n",
    "k_round = round(k)\n",
    "\n",
    "print(\"K = \" , k)\n",
    "print(\"K = \", k_round)"
   ]
  },
  {
   "cell_type": "markdown",
   "metadata": {},
   "source": [
    "# Menentukan interval kelas"
   ]
  },
  {
   "cell_type": "code",
   "execution_count": 4,
   "metadata": {},
   "outputs": [
    {
     "name": "stdout",
     "output_type": "stream",
     "text": [
      "32\n",
      "10\n",
      "C =  3.142857142857143\n",
      "C =  3\n"
     ]
    }
   ],
   "source": [
    "c = (max(data) - min(data))/k_round\n",
    "c_round = round(c)\n",
    "\n",
    "print(max(data))\n",
    "print(min(data))\n",
    "print(\"C = \",c)\n",
    "print(\"C = \",c_round)"
   ]
  },
  {
   "cell_type": "markdown",
   "metadata": {},
   "source": [
    "# Menentukan batas kelas"
   ]
  },
  {
   "cell_type": "code",
   "execution_count": 5,
   "metadata": {},
   "outputs": [],
   "source": [
    "x = min(data)\n",
    "y = x + c_round\n",
    "\n",
    "batas = []\n",
    "\n",
    "for i in range(0,k_round):\n",
    "    tmp = []\n",
    "    for j in range(x,y):\n",
    "#         print(\"%d \"%j,end='')\n",
    "        tmp.append(j)\n",
    "    \n",
    "#     print('| baris ke - ' + str(i))\n",
    "    batas.append(tmp)\n",
    "    x = y\n",
    "    y = y + c_round\n",
    "    \n",
    "# print(batas)"
   ]
  },
  {
   "cell_type": "markdown",
   "metadata": {},
   "source": [
    "# Mencari frekuensi tiap batas"
   ]
  },
  {
   "cell_type": "code",
   "execution_count": 6,
   "metadata": {
    "scrolled": true
   },
   "outputs": [],
   "source": [
    "z = data\n",
    "g = []\n",
    "jumlah_data = []\n",
    "\n",
    "for i in range(0,k_round):\n",
    "    tmp = []\n",
    "    counter = 0\n",
    "    for j in data:\n",
    "        if j in batas[i]:\n",
    "            tmp.append(j)\n",
    "            counter += 1\n",
    "    g.append([str(batas[i]),str(tmp),counter])\n",
    "    jumlah_data.append([batas[i],counter])\n",
    "\n",
    "# print(g[0])\n",
    "# print(jumlah_data)"
   ]
  },
  {
   "cell_type": "code",
   "execution_count": 7,
   "metadata": {},
   "outputs": [
    {
     "name": "stdout",
     "output_type": "stream",
     "text": [
      "batas         data yang berada dalam range                            frekuensi\n",
      "------------  ----------------------------------------------------  -----------\n",
      "[10, 11, 12]  [10, 12, 12, 12, 12]                                            5\n",
      "[13, 14, 15]  [13, 13, 13, 13, 13, 14, 14, 14, 14, 15, 15, 15, 15]           13\n",
      "[16, 17, 18]  [16, 16, 16, 16, 17, 17, 17, 17, 17, 17, 17, 18, 18]           13\n",
      "[19, 20, 21]  [19, 20, 20, 20, 21, 21, 21]                                    7\n",
      "[22, 23, 24]  [22, 24, 24, 24, 24, 24]                                        6\n",
      "[25, 26, 27]  [25, 25, 25, 25, 26, 26, 26, 27]                                8\n",
      "[28, 29, 30]  [28, 28, 28, 28, 29, 30]                                        6\n"
     ]
    }
   ],
   "source": [
    "print(tabulate(g,headers=['batas','data yang berada dalam range','frekuensi']))"
   ]
  },
  {
   "cell_type": "markdown",
   "metadata": {},
   "source": [
    "# Mencari persentase tiap frekuensi"
   ]
  },
  {
   "cell_type": "code",
   "execution_count": 8,
   "metadata": {},
   "outputs": [
    {
     "name": "stdout",
     "output_type": "stream",
     "text": [
      "  frekuensi    persentase\n",
      "-----------  ------------\n",
      "          5       8.33333\n",
      "         13      21.6667\n",
      "         13      21.6667\n",
      "          7      11.6667\n",
      "          6      10\n",
      "          8      13.3333\n",
      "          6      10\n"
     ]
    }
   ],
   "source": [
    "persentase_relatif = []\n",
    "\n",
    "for i in range(0,len(jumlah_data)):\n",
    "    persentase_relatif.append([jumlah_data[i][1],jumlah_data[i][1] / len(data) * 100])\n",
    "#     print(jumlah_data[i][1] / len(data) * 100)\n",
    "\n",
    "# print(persentase_relatif)\n",
    "\n",
    "# for i in persentase_relatif:\n",
    "#     print(\"{:.2f}\".format(i))\n",
    "\n",
    "print(tabulate(persentase_relatif,headers=[\"frekuensi\",\"persentase\"]))"
   ]
  },
  {
   "cell_type": "code",
   "execution_count": null,
   "metadata": {},
   "outputs": [],
   "source": []
  },
  {
   "cell_type": "code",
   "execution_count": null,
   "metadata": {},
   "outputs": [],
   "source": []
  },
  {
   "cell_type": "code",
   "execution_count": null,
   "metadata": {},
   "outputs": [],
   "source": []
  }
 ],
 "metadata": {
  "kernelspec": {
   "display_name": "myvenv",
   "language": "python",
   "name": "myvenv"
  },
  "language_info": {
   "codemirror_mode": {
    "name": "ipython",
    "version": 3
   },
   "file_extension": ".py",
   "mimetype": "text/x-python",
   "name": "python",
   "nbconvert_exporter": "python",
   "pygments_lexer": "ipython3",
   "version": "3.7.6"
  }
 },
 "nbformat": 4,
 "nbformat_minor": 2
}
