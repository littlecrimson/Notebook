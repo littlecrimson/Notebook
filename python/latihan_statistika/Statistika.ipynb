{
 "cells": [
  {
   "cell_type": "code",
   "execution_count": 147,
   "metadata": {},
   "outputs": [],
   "source": [
    "import math\n",
    "from tabulate import tabulate"
   ]
  },
  {
   "cell_type": "code",
   "execution_count": 148,
   "metadata": {
    "scrolled": false
   },
   "outputs": [
    {
     "name": "stdout",
     "output_type": "stream",
     "text": [
      "Jumlah data :  60\n",
      "Data :  [57, 58, 58, 58, 58, 59, 60, 60, 60, 61, 62, 63, 63, 64, 65, 66, 66, 67, 69, 69, 69, 70, 71, 71, 72, 72, 73, 73, 73, 73, 73, 73, 74, 74, 75, 76, 76, 76, 76, 77, 77, 80, 81, 81, 82, 83, 83, 85, 86, 86, 87, 88, 91, 91, 92, 93, 93, 94, 95, 97]\n"
     ]
    }
   ],
   "source": [
    "data = [73,69,63,74,83,76,95,65,60,97,\n",
    "64,76,81,73,92,75,67,72,66,58,\n",
    "69,81,77,58,93,73,59,87,76,94,\n",
    "77,71,86,71,58,91,69,57,73,83,\n",
    "72,85,73,63,58,70,61,76,93,60,\n",
    "91,74,86,60,88,66,80,73,82,62]\n",
    "\n",
    "data.sort()\n",
    "print(\"Jumlah data : \",len(data))\n",
    "print(\"Data : \",data)"
   ]
  },
  {
   "cell_type": "markdown",
   "metadata": {},
   "source": [
    "# Menentukan banyak kelas"
   ]
  },
  {
   "cell_type": "code",
   "execution_count": 149,
   "metadata": {},
   "outputs": [
    {
     "name": "stdout",
     "output_type": "stream",
     "text": [
      "K =  6.907018453774464\n",
      "K =  7\n"
     ]
    }
   ],
   "source": [
    "n = len(data)\n",
    "k = 1 + (3.322 * math.log10(n))\n",
    "k_round = round(k)\n",
    "\n",
    "print(\"K = \" , k)\n",
    "print(\"K = \", k_round)"
   ]
  },
  {
   "cell_type": "markdown",
   "metadata": {},
   "source": [
    "# Menentukan interval kelas"
   ]
  },
  {
   "cell_type": "code",
   "execution_count": 150,
   "metadata": {},
   "outputs": [
    {
     "name": "stdout",
     "output_type": "stream",
     "text": [
      "C =  5.714285714285714\n",
      "C =  6\n"
     ]
    }
   ],
   "source": [
    "c = (max(data) - min(data))/k_round\n",
    "c_round = round(c)\n",
    "\n",
    "print(\"C = \",c)\n",
    "print(\"C = \",c_round)"
   ]
  },
  {
   "cell_type": "markdown",
   "metadata": {},
   "source": [
    "# Menentukan batas kelas"
   ]
  },
  {
   "cell_type": "code",
   "execution_count": 151,
   "metadata": {},
   "outputs": [],
   "source": [
    "x = min(data)\n",
    "y = x + c_round\n",
    "\n",
    "batas = []\n",
    "\n",
    "for i in range(0,k_round):\n",
    "    tmp = []\n",
    "    for j in range(x,y):\n",
    "#         print(\"%d \"%j,end='')\n",
    "        tmp.append(j)\n",
    "    \n",
    "#     print('| baris ke - ' + str(i))\n",
    "    batas.append(tmp)\n",
    "    x = y\n",
    "    y = y + c_round\n",
    "    \n",
    "# print(batas)"
   ]
  },
  {
   "cell_type": "markdown",
   "metadata": {},
   "source": [
    "# Mencari frekuensi tiap batas"
   ]
  },
  {
   "cell_type": "code",
   "execution_count": 152,
   "metadata": {
    "scrolled": true
   },
   "outputs": [],
   "source": [
    "z = data\n",
    "g = []\n",
    "jumlah_data = []\n",
    "\n",
    "for i in range(0,k_round):\n",
    "    tmp = []\n",
    "    counter = 0\n",
    "    for j in data:\n",
    "        if j in batas[i]:\n",
    "            tmp.append(j)\n",
    "            counter += 1\n",
    "    g.append([str(batas[i]),str(tmp),counter])\n",
    "    jumlah_data.append([batas[i],counter])\n",
    "\n",
    "# print(g[0])\n",
    "# print(jumlah_data)"
   ]
  },
  {
   "cell_type": "code",
   "execution_count": 153,
   "metadata": {},
   "outputs": [
    {
     "name": "stdout",
     "output_type": "stream",
     "text": [
      "batas                     data yang berada dalam range                                        frekuensi\n",
      "------------------------  ----------------------------------------------------------------  -----------\n",
      "[57, 58, 59, 60, 61, 62]  [57, 58, 58, 58, 58, 59, 60, 60, 60, 61, 62]                               11\n",
      "[63, 64, 65, 66, 67, 68]  [63, 63, 64, 65, 66, 66, 67]                                                7\n",
      "[69, 70, 71, 72, 73, 74]  [69, 69, 69, 70, 71, 71, 72, 72, 73, 73, 73, 73, 73, 73, 74, 74]           16\n",
      "[75, 76, 77, 78, 79, 80]  [75, 76, 76, 76, 76, 77, 77, 80]                                            8\n",
      "[81, 82, 83, 84, 85, 86]  [81, 81, 82, 83, 83, 85, 86, 86]                                            8\n",
      "[87, 88, 89, 90, 91, 92]  [87, 88, 91, 91, 92]                                                        5\n",
      "[93, 94, 95, 96, 97, 98]  [93, 93, 94, 95, 97]                                                        5\n"
     ]
    }
   ],
   "source": [
    "print(tabulate(g,headers=['batas','data yang berada dalam range','frekuensi']))"
   ]
  },
  {
   "cell_type": "markdown",
   "metadata": {},
   "source": [
    "# Mencari persentase tiap frekuensi"
   ]
  },
  {
   "cell_type": "code",
   "execution_count": 154,
   "metadata": {},
   "outputs": [
    {
     "name": "stdout",
     "output_type": "stream",
     "text": [
      "  frekuensi    persentase\n",
      "-----------  ------------\n",
      "         11      18.3333\n",
      "          7      11.6667\n",
      "         16      26.6667\n",
      "          8      13.3333\n",
      "          8      13.3333\n",
      "          5       8.33333\n",
      "          5       8.33333\n"
     ]
    }
   ],
   "source": [
    "persentase_relatif = []\n",
    "\n",
    "for i in range(0,len(jumlah_data)):\n",
    "    persentase_relatif.append([jumlah_data[i][1],jumlah_data[i][1] / len(data) * 100])\n",
    "#     print(jumlah_data[i][1] / len(data) * 100)\n",
    "\n",
    "# print(persentase_relatif)\n",
    "\n",
    "# for i in persentase_relatif:\n",
    "#     print(\"{:.2f}\".format(i))\n",
    "\n",
    "print(tabulate(persentase_relatif,headers=[\"frekuensi\",\"persentase\"]))"
   ]
  },
  {
   "cell_type": "code",
   "execution_count": null,
   "metadata": {},
   "outputs": [],
   "source": []
  },
  {
   "cell_type": "code",
   "execution_count": null,
   "metadata": {},
   "outputs": [],
   "source": []
  },
  {
   "cell_type": "code",
   "execution_count": null,
   "metadata": {},
   "outputs": [],
   "source": []
  }
 ],
 "metadata": {
  "kernelspec": {
   "display_name": "myvenv",
   "language": "python",
   "name": "myvenv"
  },
  "language_info": {
   "codemirror_mode": {
    "name": "ipython",
    "version": 3
   },
   "file_extension": ".py",
   "mimetype": "text/x-python",
   "name": "python",
   "nbconvert_exporter": "python",
   "pygments_lexer": "ipython3",
   "version": "3.7.6"
  }
 },
 "nbformat": 4,
 "nbformat_minor": 2
}
